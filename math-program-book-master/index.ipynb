{
 "cells": [
  {
   "cell_type": "markdown",
   "metadata": {},
   "source": [
    "## 目次\n",
    "\n",
    "### 前書き\n",
    "\n",
    "1. [サンプルコードについて](0_前書き/サンプルコードについて.ipynb)\n",
    "\n",
    "### Chapter 1 基礎編\n",
    "\n",
    "1. [相加平均](1_基礎編/相加平均/note.ipynb)\n",
    "1. [標準偏差](1_基礎編/標準偏差/note.ipynb)\n",
    "1. [標本標準偏差](1_基礎編/標本標準偏差/note.ipynb)\n",
    "1. [偏差値](1_基礎編/偏差値/note.ipynb)\n",
    "1. [円周率](1_基礎編/円周率/note.ipynb)\n",
    "1. [ネイピア数](1_基礎編/ネイピア数/note.ipynb)\n",
    "1. [相乗平均](1_基礎編/相乗平均/note.ipynb)\n",
    "1. [対数平均](1_基礎編/対数平均/note.ipynb)\n",
    "1. [調和平均](1_基礎編/調和平均/note.ipynb)\n",
    "1. [期待値](1_基礎編/期待値/note.ipynb)\n",
    "1. [大数の法則](1_基礎編/大数の法則/note.ipynb)\n",
    "1. [共分散](1_基礎編/共分散/note.ipynb)\n",
    "1. [相関係数](1_基礎編/相関係数/note.ipynb)\n",
    "\n",
    "### Chapter 2 曲線\n",
    "\n",
    "1. [三角関数](2_曲線/三角関数/note.ipynb)\n",
    "1. [円](2_曲線/円/note.ipynb)\n",
    "1. [シグモイド関数](2_曲線/シグモイド関数/note.ipynb)\n",
    "1. [ロジット](2_曲線/ロジット/note.ipynb)\n",
    "1. [ソフトマックス関数](2_曲線/ソフトマックス関数/note.ipynb)\n",
    "1. [ベジェ曲線](2_曲線/ベジェ曲線/note.ipynb)\n",
    "1. [リーマン積分](2_曲線/リーマン積分/note.ipynb)\n",
    "1. [ガンマ関数](2_曲線/ガンマ関数/note.ipynb)\n",
    "1. [ベータ関数](2_曲線/ベータ関数/note.ipynb)\n",
    "1. [バスタブ曲線](2_曲線/バスタブ曲線/note.ipynb)\n",
    "1. [誤差関数](2_曲線/誤差関数/note.ipynb)\n",
    "\n",
    "### Chapter 3 ベクトルと距離\n",
    "1. [ベクトル](3_類似度と距離/ベクトル/note.ipynb)\n",
    "1. [内積](3_類似度と距離/内積/note.ipynb)\n",
    "1. [ユーグリッド距離](3_類似度と距離/ユーグリッド距離/note.ipynb)\n",
    "1. [標準ユーグリッド距離](3_類似度と距離/標準ユーグリッド距離/note.ipynb)\n",
    "1. [マンハッタン距離](3_類似度と距離/マンハッタン距離/note.ipynb)\n",
    "1. [マハラノビス距離](3_類似度と距離/マハラノビス距離/note.ipynb)\n",
    "1. [コサイン距離](3_類似度と距離/コサイン類似度/note.ipynb)\n",
    "\n",
    "### Chapter 4 分布\n",
    "\n",
    "1. [正規分布_確率密度](4_分布/正規分布/note.ipynb)\n",
    "1. [正規分布_累積](4_分布/正規分布_累積/note.ipynb)\n",
    "1. [対数正規分布](4_分布/対数正規分布/note.ipynb)\n",
    "1. [二項分布](4_分布/二項分布/note.ipynb)\n",
    "1. [ポアソン分布](4_分布/ポアソン分布/note.ipynb)\n",
    "1. [ベータ分布](4_分布/ベータ分布/note.ipynb)\n",
    "1. [カイ二乗分布](4_分布/カイ二乗分布/note.ipynb)\n",
    "\n",
    "### Chapter 5 機械学習\n",
    "\n",
    "1. [パーセプトロン](5_機械学習/パーセプトロン/note.ipynb)\n",
    "1. [最小二乗法](5_機械学習/最小二乗法/note.ipynb)\n",
    "1. [ロジスティック回帰](5_機械学習/ロジスティック回帰/note.ipynb) "
   ]
  }
 ],
 "metadata": {
  "jupytext": {
   "formats": "ipynb,py:light",
   "text_representation": {
    "extension": ".py",
    "format_name": "light",
    "format_version": "1.3",
    "jupytext_version": "1.0.5"
   }
  },
  "kernelspec": {
   "display_name": "Python 3",
   "language": "python",
   "name": "python3"
  },
  "language_info": {
   "codemirror_mode": {
    "name": "ipython",
    "version": 3
   },
   "file_extension": ".py",
   "mimetype": "text/x-python",
   "name": "python",
   "nbconvert_exporter": "python",
   "pygments_lexer": "ipython3",
   "version": "3.8.5"
  }
 },
 "nbformat": 4,
 "nbformat_minor": 2
}
